{
 "cells": [
  {
   "cell_type": "markdown",
   "metadata": {},
   "source": [
    "## Incentivizing fairness in Peer Review - Simulation"
   ]
  },
  {
   "cell_type": "code",
   "execution_count": 3,
   "metadata": {},
   "outputs": [],
   "source": [
    "import itertools\n",
    "import numpy as np\n",
    "import matplotlib.pyplot as plt"
   ]
  },
  {
   "cell_type": "code",
   "execution_count": 4,
   "metadata": {},
   "outputs": [],
   "source": [
    "BASE_REPUTATION = 100\n",
    "SIGMA = 10\n",
    "NUM_AGENTS = 100"
   ]
  },
  {
   "cell_type": "code",
   "execution_count": 5,
   "metadata": {},
   "outputs": [],
   "source": [
    "class ItemClass:\n",
    "\n",
    "    id_iter = itertools.count()\n",
    "    items = {}\n",
    "\n",
    "    def __init__(self):\n",
    "        self.id = next(self.id_iter)\n",
    "        self.items[self.id] = self\n",
    "\n",
    "    @classmethod\n",
    "    def get(cls, id):\n",
    "        return cls.items[id]"
   ]
  },
  {
   "cell_type": "code",
   "execution_count": 7,
   "metadata": {},
   "outputs": [],
   "source": [
    "class Agent(ItemClass):\n",
    "    \n",
    "    def __init__(self, colludingGroupId=None):\n",
    "        super().__init__()\n",
    "\n",
    "        if colludingGroupId is not None:\n",
    "            ColludingGroup.get(colludingGroupId).add(self.id)\n",
    "            self.colludingGroupId = colludingGroupId\n",
    "        else:\n",
    "            self.colludingGroupId = None\n",
    "\n",
    "        self.reputation = BASE_REPUTATION\n",
    "        self.papers = set()\n",
    "        self.scores = {}\n",
    "\n",
    "    @property\n",
    "    def group(self):\n",
    "        if self.colludingGroupId is None:\n",
    "            return None\n",
    "        else:\n",
    "            return ColludingGroup.get(self.colludingGroupId)\n",
    "\n",
    "    def inSameGroupAs(self, other):\n",
    "        return self.colludingGroupId is not None and self.colludingGroupId == other.colludingGroupId\n",
    "\n",
    "    def grade(self, paperId):\n",
    "        if paperId in self.papers:\n",
    "            return\n",
    "        paper = Paper.get(paperId)\n",
    "        if paper.owner.inSameGroupAs(self):\n",
    "            score = np.random.normal(paper.trueScore + self.group.delta, self.group.sigma)\n",
    "        else:\n",
    "            score = np.random.normal(paper.trueScore, SIGMA)\n",
    "        paper.scores[self.id] = score\n",
    "        self.scores[paper.id] = score\n",
    "\n",
    "    def resetReputation(self):\n",
    "        self.reputation = BASE_REPUTATION\n",
    "\n",
    "    def penalizeGrading(self, paperId, penaltyFunc):\n",
    "        if paperId in self.papers:\n",
    "            return\n",
    "        penalty = penaltyFunc(self.scores[paperId] - Paper.get(paperId).trueScore)\n",
    "        self.reputation -= penalty"
   ]
  },
  {
   "cell_type": "code",
   "execution_count": 8,
   "metadata": {},
   "outputs": [],
   "source": [
    "class ColludingGroup(ItemClass):\n",
    "\n",
    "    def __init__(self, delta, sigma):\n",
    "        \"\"\"\n",
    "        Args:\n",
    "            delta: Each agent in the colluding group grades\n",
    "                   each other's paper from a distribution \n",
    "                   with mean trueScore + delta \n",
    "            sigma: The std deviation of the normal distribution\n",
    "                   around the updated mean from which colluding\n",
    "                   scores are drawn\n",
    "        \"\"\"\n",
    "        super().__init__()\n",
    "        self.agents = set()\n",
    "        self.delta = delta\n",
    "        self.sigma = sigma\n",
    "    \n",
    "    def add(self, agentId):\n",
    "        self.agents.add(agentId)"
   ]
  },
  {
   "cell_type": "code",
   "execution_count": 9,
   "metadata": {},
   "outputs": [],
   "source": [
    "class Paper(ItemClass):\n",
    "\n",
    "    def __init__(self, ownerId, trueScore):\n",
    "        super().__init__()\n",
    "        self.ownerId = ownerId\n",
    "        Agent.get(ownerId).papers.add(self.id)\n",
    "        self.trueScore = trueScore\n",
    "        self.scores = {}\n",
    "\n",
    "    @property\n",
    "    def owner(self):\n",
    "        if self.ownerId is None:\n",
    "            return None\n",
    "        else:\n",
    "            return Agent.get(self.ownerId)\n",
    "    \n",
    "    @property\n",
    "    def avgScore(self):\n",
    "        scoreValues = self.scores.values()\n",
    "        if len(scoreValues) > 0:\n",
    "            return sum(scoreValues) / len(scoreValues)\n",
    "        else:\n",
    "            return 0"
   ]
  },
  {
   "cell_type": "code",
   "execution_count": 15,
   "metadata": {},
   "outputs": [],
   "source": [
    "def simulation(num_agents=NUM_AGENTS, collusion_group_size=10, group_delta=20, group_sigma=5, num_iterations=5, penaltyFunc=(lambda x: 0.01 * x if x > 0 else 0)):\n",
    "    agents = []\n",
    "    ring = ColludingGroup(group_delta, group_sigma)\n",
    "    for i in range(collusion_group_size):\n",
    "        a = Agent(ring.id)\n",
    "        agents.append(a)\n",
    "    for i in range(num_agents - collusion_group_size):\n",
    "        a = Agent()\n",
    "        agents.append(a)\n",
    "\n",
    "    for _ in range(num_iterations):\n",
    "\n",
    "        # Generate papers\n",
    "        papers = []\n",
    "        for agent in agents:\n",
    "            paper = Paper(agent.id, 100 * np.random.random())\n",
    "            papers.append(paper)\n",
    "\n",
    "        # Scoring of papers\n",
    "        for paper in papers:\n",
    "            for agent in agents:\n",
    "                agent.grade(paper.id)\n",
    "\n",
    "        # Penalties\n",
    "        for paper in papers:\n",
    "            for agent in agents:\n",
    "                agent.penalizeGrading(paper.id, penaltyFunc)\n",
    "\n",
    "    return agents, ring"
   ]
  },
  {
   "cell_type": "code",
   "execution_count": 22,
   "metadata": {},
   "outputs": [],
   "source": [
    "def getAverageReputationDifference(collusion_group_size, num_iterations):\n",
    "    agents, ring = simulation(collusion_group_size=collusion_group_size, num_iterations=num_iterations)\n",
    "    reputations = [agent.reputation for agent in agents]\n",
    "    ringReputations = [Agent.get(agentId).reputation for agentId in ring.agents]\n",
    "    avgRep = sum(reputations) / len(reputations)\n",
    "    avgRingRep = sum(ringReputations) / len(ringReputations)\n",
    "    return avgRep - avgRingRep"
   ]
  },
  {
   "cell_type": "code",
   "execution_count": 23,
   "metadata": {},
   "outputs": [],
   "source": [
    "ringSizes = [5*i for i in range(1, 21)]\n",
    "repDiffs = [getAverageReputationDifference(ringSize, 5) for ringSize in ringSizes]"
   ]
  },
  {
   "cell_type": "code",
   "execution_count": 30,
   "metadata": {},
   "outputs": [
    {
     "data": {
      "image/png": "[encoded data removed]",
      "text/plain": [
       "<Figure size 432x288 with 1 Axes>"
      ]
     },
     "metadata": {
      "needs_background": "light"
     },
     "output_type": "display_data"
    }
   ],
   "source": [
    "plt.plot(ringSizes, repDiffs)\n",
    "plt.xlabel(\"%age of total agents colluding\")\n",
    "plt.ylabel(\"Difference in average reputation after 5 iterations\")\n",
    "plt.savefig(\"AvgDiffFraction\")"
   ]
  },
  {
   "cell_type": "code",
   "execution_count": 31,
   "metadata": {},
   "outputs": [],
   "source": [
    "durations = [i for i in range(1,11)]\n",
    "repDiffs2 = [getAverageReputationDifference(10, duration) for duration in durations]"
   ]
  },
  {
   "cell_type": "code",
   "execution_count": 33,
   "metadata": {},
   "outputs": [
    {
     "data": {
      "image/png": "[encoded data removed]",
      "text/plain": [
       "<Figure size 432x288 with 1 Axes>"
      ]
     },
     "metadata": {
      "needs_background": "light"
     },
     "output_type": "display_data"
    }
   ],
   "source": [
    "plt.plot(durations, repDiffs2)\n",
    "plt.xlabel(\"Number of iterations\")\n",
    "plt.ylabel(\"Difference in average reputation at 10% collusion rate\")\n",
    "plt.savefig(\"AvgDiffTime\")"
   ]
  }
 ],
 "metadata": {
  "kernelspec": {
   "display_name": "venv",
   "language": "python",
   "name": "venv"
  },
  "language_info": {
   "codemirror_mode": {
    "name": "ipython",
    "version": 3
   },
   "file_extension": ".py",
   "mimetype": "text/x-python",
   "name": "python",
   "nbconvert_exporter": "python",
   "pygments_lexer": "ipython3",
   "version": "3.8.10"
  },
  "orig_nbformat": 4
 },
 "nbformat": 4,
 "nbformat_minor": 2
}
